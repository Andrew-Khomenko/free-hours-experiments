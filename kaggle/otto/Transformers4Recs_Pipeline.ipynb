{
 "cells": [
  {
   "cell_type": "code",
   "execution_count": 1,
   "id": "d87f1ebb-7afa-42f9-953a-c7f1d579be12",
   "metadata": {
    "execution": {
     "iopub.execute_input": "2023-07-13T15:13:50.026545Z",
     "iopub.status.busy": "2023-07-13T15:13:50.026176Z",
     "iopub.status.idle": "2023-07-13T15:13:50.821658Z",
     "shell.execute_reply": "2023-07-13T15:13:50.820761Z",
     "shell.execute_reply.started": "2023-07-13T15:13:50.026520Z"
    },
    "tags": []
   },
   "outputs": [
    {
     "name": "stdout",
     "output_type": "stream",
     "text": [
      "data  logs  schema.pb  Transformers4Recs_Pipeline.ipynb\n"
     ]
    }
   ],
   "source": [
    "!ls"
   ]
  },
  {
   "cell_type": "code",
   "execution_count": 2,
   "id": "f3f89afb-77c9-41fb-9a05-ff5d8727f4fb",
   "metadata": {
    "execution": {
     "iopub.execute_input": "2023-07-13T15:13:50.825362Z",
     "iopub.status.busy": "2023-07-13T15:13:50.825009Z",
     "iopub.status.idle": "2023-07-13T15:13:50.931008Z",
     "shell.execute_reply": "2023-07-13T15:13:50.930407Z",
     "shell.execute_reply.started": "2023-07-13T15:13:50.825328Z"
    },
    "tags": []
   },
   "outputs": [],
   "source": [
    "import os\n",
    "\n",
    "import polars as pl"
   ]
  },
  {
   "cell_type": "code",
   "execution_count": 3,
   "id": "4e402f83-109d-411e-a93d-2c7577f5b007",
   "metadata": {
    "execution": {
     "iopub.execute_input": "2023-07-13T15:13:51.873387Z",
     "iopub.status.busy": "2023-07-13T15:13:51.872990Z",
     "iopub.status.idle": "2023-07-13T15:13:51.877047Z",
     "shell.execute_reply": "2023-07-13T15:13:51.876307Z",
     "shell.execute_reply.started": "2023-07-13T15:13:51.873361Z"
    },
    "tags": []
   },
   "outputs": [],
   "source": [
    "DATA_DIR = \"data/\"\n",
    "all_data_fname = \"train_popular_70k.parquet\""
   ]
  },
  {
   "cell_type": "code",
   "execution_count": 4,
   "id": "583cefb2-0204-4f85-ba5c-3120f7439d8b",
   "metadata": {
    "execution": {
     "iopub.execute_input": "2023-07-13T15:13:52.652948Z",
     "iopub.status.busy": "2023-07-13T15:13:52.652568Z",
     "iopub.status.idle": "2023-07-13T15:13:56.406285Z",
     "shell.execute_reply": "2023-07-13T15:13:56.405432Z",
     "shell.execute_reply.started": "2023-07-13T15:13:52.652920Z"
    },
    "tags": []
   },
   "outputs": [],
   "source": [
    "df_all = pl.read_parquet(os.path.join(DATA_DIR, all_data_fname), low_memory=True)"
   ]
  },
  {
   "cell_type": "code",
   "execution_count": 5,
   "id": "546ad10b-900e-4850-b7a0-1b565402578b",
   "metadata": {
    "execution": {
     "iopub.execute_input": "2023-07-13T15:13:58.641874Z",
     "iopub.status.busy": "2023-07-13T15:13:58.641373Z",
     "iopub.status.idle": "2023-07-13T15:14:00.626239Z",
     "shell.execute_reply": "2023-07-13T15:14:00.625604Z",
     "shell.execute_reply.started": "2023-07-13T15:13:58.641837Z"
    },
    "tags": []
   },
   "outputs": [],
   "source": [
    "import json\n",
    "import os\n",
    "\n",
    "golden_test_sess_ids = None\n",
    "train_for_golden_sess_ids = None\n",
    "\n",
    "with open(os.path.join(DATA_DIR, 'golden_test_sess_ids.json'), 'r') as f:\n",
    "    golden_test_sess_ids = json.loads(json.load(f))\n",
    "\n",
    "with open(os.path.join(DATA_DIR, 'train_for_golden_sess_ids.json'), 'r') as f:\n",
    "    train_for_golden_sess_ids = json.loads(json.load(f))"
   ]
  },
  {
   "cell_type": "code",
   "execution_count": null,
   "id": "5301e6c0-03fe-4741-baaa-90d5dd1e8b1b",
   "metadata": {
    "tags": []
   },
   "outputs": [],
   "source": []
  },
  {
   "cell_type": "code",
   "execution_count": 9,
   "id": "ab8da5fe-16d7-413a-bf4a-90fd54c2e31f",
   "metadata": {
    "execution": {
     "iopub.execute_input": "2023-07-13T15:20:14.240855Z",
     "iopub.status.busy": "2023-07-13T15:20:14.240467Z",
     "iopub.status.idle": "2023-07-13T15:20:20.391650Z",
     "shell.execute_reply": "2023-07-13T15:20:20.391019Z",
     "shell.execute_reply.started": "2023-07-13T15:20:14.240828Z"
    },
    "tags": []
   },
   "outputs": [],
   "source": [
    "# generating current train dataset (shuffle was done previously so no take train from beginning and validation from end)\n",
    "import pathlib\n",
    "\n",
    "N_train = 4000000\n",
    "\n",
    "cur_train_ids = train_for_golden_sess_ids[:N_train]\n",
    "\n",
    "df_cur_train = df_all.filter(pl.col('session_id').is_in(cur_train_ids))\n",
    "\n",
    "\n",
    "path: pathlib.Path = os.path.join(DATA_DIR, 'cur_train.parquet')\n",
    "df_cur_train.write_parquet(path)"
   ]
  },
  {
   "cell_type": "code",
   "execution_count": 10,
   "id": "3905d3da-e2af-404e-b4ca-0c7464ffb35c",
   "metadata": {
    "execution": {
     "iopub.execute_input": "2023-07-13T15:20:25.519560Z",
     "iopub.status.busy": "2023-07-13T15:20:25.519188Z",
     "iopub.status.idle": "2023-07-13T15:20:28.127442Z",
     "shell.execute_reply": "2023-07-13T15:20:28.126716Z",
     "shell.execute_reply.started": "2023-07-13T15:20:25.519536Z"
    },
    "tags": []
   },
   "outputs": [],
   "source": [
    "# Generating an aid to token id mapping for transformers\n",
    "aid_to_token_id = {}\n",
    "\n",
    "ind = 1 # minimum must be 1 because 0 is reserved for a padding token\n",
    "\n",
    "for x in df_cur_train.select(pl.col(\"aid_popular\").arr.explode().unique()).to_numpy():\n",
    "    aid_to_token_id[x[0]] = ind\n",
    "    ind += 1\n",
    "\n",
    "token_id_to_aid = {v: k for k, v in aid_to_token_id.items()}\n"
   ]
  },
  {
   "cell_type": "code",
   "execution_count": null,
   "id": "48122e55-22b8-43d8-8d20-b9ccb0bb9409",
   "metadata": {},
   "outputs": [],
   "source": []
  },
  {
   "cell_type": "code",
   "execution_count": 11,
   "id": "3e143b5b-12f1-4179-9912-ccd3f57f192f",
   "metadata": {
    "execution": {
     "iopub.execute_input": "2023-07-13T15:20:29.168474Z",
     "iopub.status.busy": "2023-07-13T15:20:29.168029Z",
     "iopub.status.idle": "2023-07-13T15:20:29.172072Z",
     "shell.execute_reply": "2023-07-13T15:20:29.171311Z",
     "shell.execute_reply.started": "2023-07-13T15:20:29.168447Z"
    },
    "tags": []
   },
   "outputs": [],
   "source": [
    "MAX_SEQ_LEN = 20"
   ]
  },
  {
   "cell_type": "code",
   "execution_count": 12,
   "id": "2614da45-17ae-4620-b3ce-e1881b660313",
   "metadata": {
    "execution": {
     "iopub.execute_input": "2023-07-13T15:20:30.653521Z",
     "iopub.status.busy": "2023-07-13T15:20:30.653107Z",
     "iopub.status.idle": "2023-07-13T15:20:30.659096Z",
     "shell.execute_reply": "2023-07-13T15:20:30.658469Z",
     "shell.execute_reply.started": "2023-07-13T15:20:30.653494Z"
    },
    "tags": []
   },
   "outputs": [],
   "source": [
    "# preparing training data (mapping and truncating)"
   ]
  },
  {
   "cell_type": "code",
   "execution_count": 13,
   "id": "19c153f2-33d8-4521-849a-2f0120287f3a",
   "metadata": {
    "execution": {
     "iopub.execute_input": "2023-07-13T15:20:31.460851Z",
     "iopub.status.busy": "2023-07-13T15:20:31.460480Z",
     "iopub.status.idle": "2023-07-13T15:23:59.780138Z",
     "shell.execute_reply": "2023-07-13T15:23:59.779506Z",
     "shell.execute_reply.started": "2023-07-13T15:20:31.460824Z"
    },
    "tags": []
   },
   "outputs": [],
   "source": [
    "df_cur_train = df_cur_train.with_columns((pl.col(\"aid_popular\").apply(lambda l: [aid_to_token_id[x] for x in l])).alias(\"tokid_popular\"))"
   ]
  },
  {
   "cell_type": "code",
   "execution_count": 14,
   "id": "b5dcbb5b-7a00-4ce3-9003-81cc9d31db1c",
   "metadata": {
    "execution": {
     "iopub.execute_input": "2023-07-13T15:23:59.782046Z",
     "iopub.status.busy": "2023-07-13T15:23:59.781574Z",
     "iopub.status.idle": "2023-07-13T15:25:05.925868Z",
     "shell.execute_reply": "2023-07-13T15:25:05.924985Z",
     "shell.execute_reply.started": "2023-07-13T15:23:59.782020Z"
    },
    "tags": []
   },
   "outputs": [],
   "source": [
    "df_cur_train = df_cur_train.with_columns((pl.col(\"tokid_popular\").apply(lambda l: l[-MAX_SEQ_LEN:])).alias(\"tokid_popular_trunc\"))"
   ]
  },
  {
   "cell_type": "code",
   "execution_count": 15,
   "id": "d387cc48-3d8d-41aa-ae24-8712174b15fe",
   "metadata": {
    "execution": {
     "iopub.execute_input": "2023-07-13T15:25:05.927435Z",
     "iopub.status.busy": "2023-07-13T15:25:05.927101Z",
     "iopub.status.idle": "2023-07-13T15:25:17.971190Z",
     "shell.execute_reply": "2023-07-13T15:25:17.970538Z",
     "shell.execute_reply.started": "2023-07-13T15:25:05.927403Z"
    },
    "tags": []
   },
   "outputs": [],
   "source": [
    "path: pathlib.Path = os.path.join(DATA_DIR, 'cur_train_trunc.parquet')\n",
    "df_cur_train.write_parquet(path)"
   ]
  },
  {
   "cell_type": "code",
   "execution_count": 16,
   "id": "8ef1c620-433c-4ef4-9572-35225b182a99",
   "metadata": {
    "execution": {
     "iopub.execute_input": "2023-07-13T15:25:17.973473Z",
     "iopub.status.busy": "2023-07-13T15:25:17.973122Z",
     "iopub.status.idle": "2023-07-13T15:25:17.976602Z",
     "shell.execute_reply": "2023-07-13T15:25:17.975910Z",
     "shell.execute_reply.started": "2023-07-13T15:25:17.973449Z"
    },
    "tags": []
   },
   "outputs": [],
   "source": [
    "# preparing test data (mapping and truncating)"
   ]
  },
  {
   "cell_type": "code",
   "execution_count": 17,
   "id": "ffd721a0-6502-4dc1-ab44-8f36187d4106",
   "metadata": {
    "execution": {
     "iopub.execute_input": "2023-07-13T15:25:17.977829Z",
     "iopub.status.busy": "2023-07-13T15:25:17.977544Z",
     "iopub.status.idle": "2023-07-13T15:25:18.995758Z",
     "shell.execute_reply": "2023-07-13T15:25:18.995076Z",
     "shell.execute_reply.started": "2023-07-13T15:25:17.977808Z"
    },
    "tags": []
   },
   "outputs": [],
   "source": [
    "df_test = df_all.filter(pl.col('session_id').is_in(golden_test_sess_ids))"
   ]
  },
  {
   "cell_type": "code",
   "execution_count": 18,
   "id": "e66d8325-42a2-4488-a22f-6daa1a5ea2ad",
   "metadata": {
    "execution": {
     "iopub.execute_input": "2023-07-13T15:25:18.997028Z",
     "iopub.status.busy": "2023-07-13T15:25:18.996686Z",
     "iopub.status.idle": "2023-07-13T15:27:01.825333Z",
     "shell.execute_reply": "2023-07-13T15:27:01.824371Z",
     "shell.execute_reply.started": "2023-07-13T15:25:18.997000Z"
    },
    "tags": []
   },
   "outputs": [],
   "source": [
    "df_test = df_test.with_columns((pl.col(\"aid_popular\").apply(lambda l: [aid_to_token_id[x] for x in l])).alias(\"tokid_popular\"))"
   ]
  },
  {
   "cell_type": "code",
   "execution_count": 19,
   "id": "6abe959c-5e23-4265-8151-3017e1ead004",
   "metadata": {
    "execution": {
     "iopub.execute_input": "2023-07-13T15:27:01.828006Z",
     "iopub.status.busy": "2023-07-13T15:27:01.827675Z",
     "iopub.status.idle": "2023-07-13T15:27:35.352258Z",
     "shell.execute_reply": "2023-07-13T15:27:35.351627Z",
     "shell.execute_reply.started": "2023-07-13T15:27:01.827982Z"
    },
    "tags": []
   },
   "outputs": [],
   "source": [
    "df_test = df_test.with_columns((pl.col(\"tokid_popular\").apply(lambda l: l[-MAX_SEQ_LEN:])).alias(\"tokid_popular_trunc\"))"
   ]
  },
  {
   "cell_type": "code",
   "execution_count": 20,
   "id": "29884cb9-0ee1-491d-83cb-d1bda2508075",
   "metadata": {
    "execution": {
     "iopub.execute_input": "2023-07-13T15:27:35.353926Z",
     "iopub.status.busy": "2023-07-13T15:27:35.353322Z",
     "iopub.status.idle": "2023-07-13T15:27:46.958175Z",
     "shell.execute_reply": "2023-07-13T15:27:46.957454Z",
     "shell.execute_reply.started": "2023-07-13T15:27:35.353898Z"
    },
    "tags": []
   },
   "outputs": [],
   "source": [
    "path: pathlib.Path = os.path.join(DATA_DIR, 'cur_test_trunc.parquet')\n",
    "df_cur_train.write_parquet(path)"
   ]
  },
  {
   "cell_type": "code",
   "execution_count": 21,
   "id": "2a69509f-3f8b-4d8e-871c-15af3a379b33",
   "metadata": {
    "execution": {
     "iopub.execute_input": "2023-07-13T15:27:46.959414Z",
     "iopub.status.busy": "2023-07-13T15:27:46.959117Z",
     "iopub.status.idle": "2023-07-13T15:27:52.241380Z",
     "shell.execute_reply": "2023-07-13T15:27:52.240675Z",
     "shell.execute_reply.started": "2023-07-13T15:27:46.959391Z"
    },
    "tags": []
   },
   "outputs": [
    {
     "name": "stderr",
     "output_type": "stream",
     "text": [
      "/opt/saturncloud/envs/saturn/lib/python3.9/site-packages/merlin/dtypes/mappings/tf.py:52: UserWarning: Tensorflow dtype mappings did not load successfully due to an error: No module named 'tensorflow'\n",
      "  warn(f\"Tensorflow dtype mappings did not load successfully due to an error: {exc.msg}\")\n",
      "/opt/saturncloud/envs/saturn/lib/python3.9/site-packages/tritonclient/grpc/__init__.py:54: UserWarning: Imported version of grpc is 1.46.3. There is a memory leak in certain Python GRPC versions (1.43.0 to be specific). Please use versions <1.43.0 or >=1.51.1 to avoid leaks (see https://github.com/grpc/grpc/issues/28513).\n",
      "  warnings.warn(\n"
     ]
    }
   ],
   "source": [
    "import os\n",
    "import ast\n",
    "import json\n",
    "import glob\n",
    "import torch\n",
    "import warnings\n",
    "import numpy as np\n",
    "import pandas as pd\n",
    "import nvtabular as nvt\n",
    "import matplotlib.pyplot as plt\n",
    "\n",
    "from tqdm import tqdm\n",
    "from datetime import datetime\n",
    "from collections import Counter\n",
    "\n",
    "warnings.simplefilter(action='ignore', category=FutureWarning)\n",
    "warnings.simplefilter(action='ignore', category=UserWarning)\n",
    "\n",
    "from nvtabular.ops import *\n",
    "from merlin.schema.tags import Tags\n",
    "from merlin_standard_lib import Schema\n",
    "from transformers4rec import torch as tr\n",
    "from transformers4rec.torch import Trainer\n",
    "from transformers4rec.torch.ranking_metric import RecallAt, NDCGAt\n",
    "from nvtabular.loader.torch import TorchAsyncItr, DLDataLoader\n",
    "from transformers4rec.config.trainer import T4RecTrainingArguments"
   ]
  },
  {
   "cell_type": "code",
   "execution_count": 22,
   "id": "e569b774-4c41-4ffc-a7c6-b4d6b1ae4c75",
   "metadata": {
    "execution": {
     "iopub.execute_input": "2023-07-13T15:27:52.244202Z",
     "iopub.status.busy": "2023-07-13T15:27:52.243687Z",
     "iopub.status.idle": "2023-07-13T15:27:52.249698Z",
     "shell.execute_reply": "2023-07-13T15:27:52.248899Z",
     "shell.execute_reply.started": "2023-07-13T15:27:52.244177Z"
    },
    "tags": []
   },
   "outputs": [
    {
     "name": "stdout",
     "output_type": "stream",
     "text": [
      "Overwriting schema.pb\n"
     ]
    }
   ],
   "source": [
    "%%writefile schema.pb\n",
    "\n",
    "feature {\n",
    "  name: \"tokid_popular_trunc\"\n",
    "  type: INT\n",
    "  int_domain {\n",
    "    name: \"aid\"\n",
    "    min: 0\n",
    "    max: 70001\n",
    "    is_categorical: true\n",
    "  }\n",
    "  annotation {\n",
    "    tag: \"item_id\"\n",
    "    tag: \"list\"\n",
    "    tag: \"categorical\"\n",
    "    tag: \"item\"\n",
    "  }\n",
    "  value_count {\n",
    "    min: 2\n",
    "    max: 20\n",
    "  }\n",
    "}"
   ]
  },
  {
   "cell_type": "code",
   "execution_count": 23,
   "id": "7a4df46a-93c1-4fa7-af2f-2a330ce5f02f",
   "metadata": {
    "execution": {
     "iopub.execute_input": "2023-07-13T15:27:52.250919Z",
     "iopub.status.busy": "2023-07-13T15:27:52.250657Z",
     "iopub.status.idle": "2023-07-13T15:27:52.269800Z",
     "shell.execute_reply": "2023-07-13T15:27:52.269149Z",
     "shell.execute_reply.started": "2023-07-13T15:27:52.250898Z"
    },
    "tags": []
   },
   "outputs": [],
   "source": [
    "schema = Schema().from_proto_text(\"schema.pb\")\n"
   ]
  },
  {
   "cell_type": "code",
   "execution_count": 24,
   "id": "8c63805f-6045-46d1-9401-9efaadf888df",
   "metadata": {
    "execution": {
     "iopub.execute_input": "2023-07-13T15:27:52.271239Z",
     "iopub.status.busy": "2023-07-13T15:27:52.270858Z",
     "iopub.status.idle": "2023-07-13T15:27:52.342192Z",
     "shell.execute_reply": "2023-07-13T15:27:52.341536Z",
     "shell.execute_reply.started": "2023-07-13T15:27:52.271204Z"
    },
    "tags": []
   },
   "outputs": [],
   "source": [
    "inputs = tr.TabularSequenceFeatures.from_schema(\n",
    "    schema,\n",
    "    max_sequence_length=MAX_SEQ_LEN,\n",
    "    d_output=256,\n",
    "    masking=\"mlm\",\n",
    ")"
   ]
  },
  {
   "cell_type": "code",
   "execution_count": 25,
   "id": "93d93e4d-cec6-4c9a-a7e1-1792a2ca9381",
   "metadata": {
    "execution": {
     "iopub.execute_input": "2023-07-13T15:27:52.343467Z",
     "iopub.status.busy": "2023-07-13T15:27:52.343160Z",
     "iopub.status.idle": "2023-07-13T15:27:52.363312Z",
     "shell.execute_reply": "2023-07-13T15:27:52.362699Z",
     "shell.execute_reply.started": "2023-07-13T15:27:52.343442Z"
    },
    "tags": []
   },
   "outputs": [],
   "source": [
    "# Define XLNetConfig class and set default parameters for HF XLNet config\n",
    "transformer_config = tr.XLNetConfig.build(\n",
    "    d_model=64, n_head=8, n_layer=6, total_seq_length=MAX_SEQ_LEN\n",
    ")\n",
    "\n",
    "# Define the model block including: inputs, masking, projection and transformer block.\n",
    "body = tr.SequentialBlock(\n",
    "    inputs,\n",
    "    tr.MLPBlock([64]),\n",
    "    tr.TransformerBlock(transformer_config, masking=inputs.masking)\n",
    ")"
   ]
  },
  {
   "cell_type": "code",
   "execution_count": 26,
   "id": "fadecc48-25b5-441e-b453-0c3fea55cfc4",
   "metadata": {
    "execution": {
     "iopub.execute_input": "2023-07-13T15:27:52.364442Z",
     "iopub.status.busy": "2023-07-13T15:27:52.364160Z",
     "iopub.status.idle": "2023-07-13T15:27:52.369612Z",
     "shell.execute_reply": "2023-07-13T15:27:52.368974Z",
     "shell.execute_reply.started": "2023-07-13T15:27:52.364419Z"
    },
    "tags": []
   },
   "outputs": [],
   "source": [
    "metrics = [\n",
    "    RecallAt(top_ks=[10, 20], labels_onehot=True),\n",
    "    NDCGAt(top_ks=[10, 20], labels_onehot=True)\n",
    "]\n",
    "\n",
    "# Define a head related to next item prediction task\n",
    "head = tr.Head(\n",
    "    body,\n",
    "    tr.NextItemPredictionTask(weight_tying=True, metrics=metrics),\n",
    "    inputs=inputs,\n",
    ")\n",
    "\n",
    "# Get the end-to-end Model class\n",
    "model = tr.Model(head)"
   ]
  },
  {
   "cell_type": "code",
   "execution_count": 27,
   "id": "a980a29c-cac3-4e75-99b1-b2b8e586dfe8",
   "metadata": {
    "execution": {
     "iopub.execute_input": "2023-07-13T15:27:52.370988Z",
     "iopub.status.busy": "2023-07-13T15:27:52.370601Z",
     "iopub.status.idle": "2023-07-13T15:27:52.376323Z",
     "shell.execute_reply": "2023-07-13T15:27:52.375765Z",
     "shell.execute_reply.started": "2023-07-13T15:27:52.370964Z"
    },
    "tags": []
   },
   "outputs": [],
   "source": [
    "log_folder = os.path.join(DATA_DIR, \"logs/\")"
   ]
  },
  {
   "cell_type": "code",
   "execution_count": 28,
   "id": "309441cb-f3e6-4753-a4d2-f39bd2846f17",
   "metadata": {
    "execution": {
     "iopub.execute_input": "2023-07-13T15:27:52.377388Z",
     "iopub.status.busy": "2023-07-13T15:27:52.377109Z",
     "iopub.status.idle": "2023-07-13T15:27:55.407589Z",
     "shell.execute_reply": "2023-07-13T15:27:55.406840Z",
     "shell.execute_reply.started": "2023-07-13T15:27:52.377367Z"
    },
    "tags": []
   },
   "outputs": [],
   "source": [
    "# Set hyperparameters for training\n",
    "\n",
    "train_args = T4RecTrainingArguments(\n",
    "    data_loader_engine='nvtabular',\n",
    "    dataloader_drop_last=True,\n",
    "    gradient_accumulation_steps=1,\n",
    "    per_device_train_batch_size=128,\n",
    "    per_device_eval_batch_size=128,\n",
    "    output_dir=log_folder,\n",
    "    learning_rate=0.0005,\n",
    "    lr_scheduler_type='cosine',\n",
    "    learning_rate_num_cosine_cycles_by_epoch=1,\n",
    "    num_train_epochs=4,\n",
    "    max_sequence_length=MAX_SEQ_LEN,\n",
    "    report_to=[],\n",
    "    logging_steps=500,\n",
    "    save_steps=1000,\n",
    "    no_cuda=False,\n",
    ")\n",
    "\n",
    "trainer = Trainer(\n",
    "    model=model,\n",
    "    args=train_args,\n",
    "    schema=schema,\n",
    "    compute_metrics=True,\n",
    ")"
   ]
  },
  {
   "cell_type": "code",
   "execution_count": 29,
   "id": "94e95a9a-2907-43a9-82c5-f98025a6f05c",
   "metadata": {
    "execution": {
     "iopub.execute_input": "2023-07-13T15:27:55.409266Z",
     "iopub.status.busy": "2023-07-13T15:27:55.408675Z",
     "iopub.status.idle": "2023-07-13T15:27:55.413031Z",
     "shell.execute_reply": "2023-07-13T15:27:55.412247Z",
     "shell.execute_reply.started": "2023-07-13T15:27:55.409238Z"
    },
    "tags": []
   },
   "outputs": [],
   "source": [
    "trainer.train_dataset_or_path = os.path.join(DATA_DIR, 'cur_train_trunc.parquet')\n",
    "trainer.eval_dataset_or_path = os.path.join(DATA_DIR, 'cur_test_trunc.parquet')"
   ]
  },
  {
   "cell_type": "code",
   "execution_count": null,
   "id": "797124aa-b4d1-4ad9-9fdc-85dc3b407322",
   "metadata": {
    "execution": {
     "iopub.execute_input": "2023-07-13T15:27:55.414218Z",
     "iopub.status.busy": "2023-07-13T15:27:55.413915Z"
    },
    "tags": []
   },
   "outputs": [
    {
     "data": {
      "text/html": [
       "\n",
       "    <div>\n",
       "      \n",
       "      <progress value='18265' max='125000' style='width:300px; height:20px; vertical-align: middle;'></progress>\n",
       "      [ 18265/125000 12:02 < 1:10:21, 25.28 it/s, Epoch 0.58/4]\n",
       "    </div>\n",
       "    <table border=\"1\" class=\"dataframe\">\n",
       "  <thead>\n",
       " <tr style=\"text-align: left;\">\n",
       "      <th>Step</th>\n",
       "      <th>Training Loss</th>\n",
       "    </tr>\n",
       "  </thead>\n",
       "  <tbody>\n",
       "    <tr>\n",
       "      <td>500</td>\n",
       "      <td>10.827400</td>\n",
       "    </tr>\n",
       "    <tr>\n",
       "      <td>1000</td>\n",
       "      <td>10.504300</td>\n",
       "    </tr>\n",
       "    <tr>\n",
       "      <td>1500</td>\n",
       "      <td>10.381700</td>\n",
       "    </tr>\n",
       "    <tr>\n",
       "      <td>2000</td>\n",
       "      <td>10.271400</td>\n",
       "    </tr>\n",
       "    <tr>\n",
       "      <td>2500</td>\n",
       "      <td>10.176900</td>\n",
       "    </tr>\n",
       "    <tr>\n",
       "      <td>3000</td>\n",
       "      <td>10.059500</td>\n",
       "    </tr>\n",
       "    <tr>\n",
       "      <td>3500</td>\n",
       "      <td>9.934400</td>\n",
       "    </tr>\n",
       "    <tr>\n",
       "      <td>4000</td>\n",
       "      <td>9.811900</td>\n",
       "    </tr>\n",
       "    <tr>\n",
       "      <td>4500</td>\n",
       "      <td>9.682600</td>\n",
       "    </tr>\n",
       "    <tr>\n",
       "      <td>5000</td>\n",
       "      <td>9.560800</td>\n",
       "    </tr>\n",
       "    <tr>\n",
       "      <td>5500</td>\n",
       "      <td>9.479200</td>\n",
       "    </tr>\n",
       "    <tr>\n",
       "      <td>6000</td>\n",
       "      <td>9.359400</td>\n",
       "    </tr>\n",
       "    <tr>\n",
       "      <td>6500</td>\n",
       "      <td>9.281000</td>\n",
       "    </tr>\n",
       "    <tr>\n",
       "      <td>7000</td>\n",
       "      <td>9.214200</td>\n",
       "    </tr>\n",
       "    <tr>\n",
       "      <td>7500</td>\n",
       "      <td>9.130200</td>\n",
       "    </tr>\n",
       "    <tr>\n",
       "      <td>8000</td>\n",
       "      <td>9.071000</td>\n",
       "    </tr>\n",
       "    <tr>\n",
       "      <td>8500</td>\n",
       "      <td>8.999700</td>\n",
       "    </tr>\n",
       "    <tr>\n",
       "      <td>9000</td>\n",
       "      <td>8.947700</td>\n",
       "    </tr>\n",
       "    <tr>\n",
       "      <td>9500</td>\n",
       "      <td>8.871600</td>\n",
       "    </tr>\n",
       "    <tr>\n",
       "      <td>10000</td>\n",
       "      <td>8.832400</td>\n",
       "    </tr>\n",
       "    <tr>\n",
       "      <td>10500</td>\n",
       "      <td>8.804800</td>\n",
       "    </tr>\n",
       "    <tr>\n",
       "      <td>11000</td>\n",
       "      <td>8.787600</td>\n",
       "    </tr>\n",
       "    <tr>\n",
       "      <td>11500</td>\n",
       "      <td>8.752400</td>\n",
       "    </tr>\n",
       "    <tr>\n",
       "      <td>12000</td>\n",
       "      <td>8.727600</td>\n",
       "    </tr>\n",
       "    <tr>\n",
       "      <td>12500</td>\n",
       "      <td>8.717600</td>\n",
       "    </tr>\n",
       "    <tr>\n",
       "      <td>13000</td>\n",
       "      <td>8.684500</td>\n",
       "    </tr>\n",
       "    <tr>\n",
       "      <td>13500</td>\n",
       "      <td>8.676500</td>\n",
       "    </tr>\n",
       "    <tr>\n",
       "      <td>14000</td>\n",
       "      <td>8.685100</td>\n",
       "    </tr>\n",
       "    <tr>\n",
       "      <td>14500</td>\n",
       "      <td>8.682400</td>\n",
       "    </tr>\n",
       "    <tr>\n",
       "      <td>15000</td>\n",
       "      <td>8.683400</td>\n",
       "    </tr>\n",
       "    <tr>\n",
       "      <td>15500</td>\n",
       "      <td>8.678900</td>\n",
       "    </tr>\n",
       "    <tr>\n",
       "      <td>16000</td>\n",
       "      <td>8.667800</td>\n",
       "    </tr>\n",
       "    <tr>\n",
       "      <td>16500</td>\n",
       "      <td>8.674700</td>\n",
       "    </tr>\n",
       "    <tr>\n",
       "      <td>17000</td>\n",
       "      <td>8.674900</td>\n",
       "    </tr>\n",
       "    <tr>\n",
       "      <td>17500</td>\n",
       "      <td>8.677700</td>\n",
       "    </tr>\n",
       "    <tr>\n",
       "      <td>18000</td>\n",
       "      <td>8.670000</td>\n",
       "    </tr>\n",
       "  </tbody>\n",
       "</table><p>"
      ],
      "text/plain": [
       "<IPython.core.display.HTML object>"
      ]
     },
     "metadata": {},
     "output_type": "display_data"
    }
   ],
   "source": [
    "trainer.train()\n",
    "trainer._save_model_and_checkpoint(save_model_class=True)"
   ]
  },
  {
   "cell_type": "code",
   "execution_count": null,
   "id": "cd6a70c2-e062-4a07-a479-b0c897aa35ad",
   "metadata": {
    "tags": []
   },
   "outputs": [],
   "source": [
    "train_metrics = trainer.evaluate(eval_dataset=os.path.join(DATA_DIR, 'cur_test_trunc.parquet'), metric_key_prefix='eval')"
   ]
  },
  {
   "cell_type": "code",
   "execution_count": null,
   "id": "3c7f7939-08ef-4736-9606-7a9964f01e23",
   "metadata": {
    "tags": []
   },
   "outputs": [],
   "source": [
    "for key in sorted(train_metrics.keys()):\n",
    "    print(\" %s = %s\" % (key, str(train_metrics[key])))"
   ]
  },
  {
   "cell_type": "code",
   "execution_count": null,
   "id": "9a68f7d6-d8fc-493e-8266-c1524948597d",
   "metadata": {
    "tags": []
   },
   "outputs": [],
   "source": []
  },
  {
   "cell_type": "code",
   "execution_count": null,
   "id": "04a633cd-868d-4107-b88a-674f05591a36",
   "metadata": {
    "tags": []
   },
   "outputs": [],
   "source": []
  },
  {
   "cell_type": "code",
   "execution_count": null,
   "id": "6fec5237-cfe0-4940-84f6-f73de9df2927",
   "metadata": {},
   "outputs": [],
   "source": []
  }
 ],
 "metadata": {
  "kernelspec": {
   "display_name": "saturn (Python 3)",
   "language": "python",
   "name": "python3"
  },
  "language_info": {
   "codemirror_mode": {
    "name": "ipython",
    "version": 3
   },
   "file_extension": ".py",
   "mimetype": "text/x-python",
   "name": "python",
   "nbconvert_exporter": "python",
   "pygments_lexer": "ipython3",
   "version": "3.9.15"
  }
 },
 "nbformat": 4,
 "nbformat_minor": 5
}

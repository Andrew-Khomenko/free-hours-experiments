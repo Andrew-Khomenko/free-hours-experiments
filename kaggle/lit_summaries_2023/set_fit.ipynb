{
 "cells": [
  {
   "cell_type": "code",
   "execution_count": 16,
   "id": "312452da-df0e-47e6-9f4f-dfcd29e4e453",
   "metadata": {},
   "outputs": [],
   "source": [
    "import numpy as np\n",
    "import pandas as pd\n",
    "import re\n",
    "from tqdm import tqdm\n",
    "from setfit import SetFitModel, SetFitTrainer\n",
    "from sentence_transformers.losses import CosineSimilarityLoss\n",
    "from sentence_transformers import SentenceTransformer\n",
    "from sklearn.model_selection import train_test_split\n",
    "from sklearn.metrics import mean_squared_error\n",
    "from sklearn.ensemble import RandomForestClassifier\n",
    "from sklearn.metrics import classification_report\n",
    "from datasets import Dataset\n",
    "from torch.utils.data import DataLoader"
   ]
  },
  {
   "cell_type": "code",
   "execution_count": 2,
   "id": "917c0d01-c484-4e7e-a1eb-668fc3750e68",
   "metadata": {},
   "outputs": [],
   "source": [
    "model_body = SentenceTransformer('BAAI/bge-large-en')\n",
    "model_head = RandomForestClassifier(max_depth=8, random_state=20)\n",
    "\n",
    "model = SetFitModel(\n",
    "        model_body=model_body,\n",
    "        model_head=model_head,\n",
    "        multi_target_strategy=None,\n",
    "        l2_weight=1e-2,\n",
    "        normalize_embeddings=False)"
   ]
  },
  {
   "cell_type": "code",
   "execution_count": 3,
   "id": "0a1a1d1f-4fbe-4f8d-a91a-54b636a6e7cc",
   "metadata": {},
   "outputs": [],
   "source": [
    "prompts_train = pd.read_csv(\"data/prompts_train.csv\")\n",
    "summaries_train = pd.read_csv(\"data/summaries_train.csv\")\n",
    "\n",
    "df = summaries_train.merge(prompts_train, how=\"left\", on=\"prompt_id\")"
   ]
  },
  {
   "cell_type": "code",
   "execution_count": 4,
   "id": "a556d25d-9a7b-46e8-952e-2693f57f8e56",
   "metadata": {},
   "outputs": [
    {
     "data": {
      "text/html": [
       "<div>\n",
       "<style scoped>\n",
       "    .dataframe tbody tr th:only-of-type {\n",
       "        vertical-align: middle;\n",
       "    }\n",
       "\n",
       "    .dataframe tbody tr th {\n",
       "        vertical-align: top;\n",
       "    }\n",
       "\n",
       "    .dataframe thead th {\n",
       "        text-align: right;\n",
       "    }\n",
       "</style>\n",
       "<table border=\"1\" class=\"dataframe\">\n",
       "  <thead>\n",
       "    <tr style=\"text-align: right;\">\n",
       "      <th></th>\n",
       "      <th>student_id</th>\n",
       "      <th>prompt_id</th>\n",
       "      <th>text</th>\n",
       "      <th>content</th>\n",
       "      <th>wording</th>\n",
       "      <th>prompt_question</th>\n",
       "      <th>prompt_title</th>\n",
       "      <th>prompt_text</th>\n",
       "    </tr>\n",
       "  </thead>\n",
       "  <tbody>\n",
       "    <tr>\n",
       "      <th>0</th>\n",
       "      <td>000e8c3c7ddb</td>\n",
       "      <td>814d6b</td>\n",
       "      <td>The third wave was an experimentto see how peo...</td>\n",
       "      <td>0.205683</td>\n",
       "      <td>0.380538</td>\n",
       "      <td>Summarize how the Third Wave developed over su...</td>\n",
       "      <td>The Third Wave</td>\n",
       "      <td>Background \\r\\nThe Third Wave experiment took ...</td>\n",
       "    </tr>\n",
       "    <tr>\n",
       "      <th>1</th>\n",
       "      <td>0020ae56ffbf</td>\n",
       "      <td>ebad26</td>\n",
       "      <td>They would rub it up with soda to make the sme...</td>\n",
       "      <td>-0.548304</td>\n",
       "      <td>0.506755</td>\n",
       "      <td>Summarize the various ways the factory would u...</td>\n",
       "      <td>Excerpt from The Jungle</td>\n",
       "      <td>With one member trimming beef in a cannery, an...</td>\n",
       "    </tr>\n",
       "    <tr>\n",
       "      <th>2</th>\n",
       "      <td>004e978e639e</td>\n",
       "      <td>3b9047</td>\n",
       "      <td>In Egypt, there were many occupations and soci...</td>\n",
       "      <td>3.128928</td>\n",
       "      <td>4.231226</td>\n",
       "      <td>In complete sentences, summarize the structure...</td>\n",
       "      <td>Egyptian Social Structure</td>\n",
       "      <td>Egyptian society was structured like a pyramid...</td>\n",
       "    </tr>\n",
       "    <tr>\n",
       "      <th>3</th>\n",
       "      <td>005ab0199905</td>\n",
       "      <td>3b9047</td>\n",
       "      <td>The highest class was Pharaohs these people we...</td>\n",
       "      <td>-0.210614</td>\n",
       "      <td>-0.471415</td>\n",
       "      <td>In complete sentences, summarize the structure...</td>\n",
       "      <td>Egyptian Social Structure</td>\n",
       "      <td>Egyptian society was structured like a pyramid...</td>\n",
       "    </tr>\n",
       "    <tr>\n",
       "      <th>4</th>\n",
       "      <td>0070c9e7af47</td>\n",
       "      <td>814d6b</td>\n",
       "      <td>The Third Wave developed  rapidly because the ...</td>\n",
       "      <td>3.272894</td>\n",
       "      <td>3.219757</td>\n",
       "      <td>Summarize how the Third Wave developed over su...</td>\n",
       "      <td>The Third Wave</td>\n",
       "      <td>Background \\r\\nThe Third Wave experiment took ...</td>\n",
       "    </tr>\n",
       "  </tbody>\n",
       "</table>\n",
       "</div>"
      ],
      "text/plain": [
       "     student_id prompt_id                                               text   \n",
       "0  000e8c3c7ddb    814d6b  The third wave was an experimentto see how peo...  \\\n",
       "1  0020ae56ffbf    ebad26  They would rub it up with soda to make the sme...   \n",
       "2  004e978e639e    3b9047  In Egypt, there were many occupations and soci...   \n",
       "3  005ab0199905    3b9047  The highest class was Pharaohs these people we...   \n",
       "4  0070c9e7af47    814d6b  The Third Wave developed  rapidly because the ...   \n",
       "\n",
       "    content   wording                                    prompt_question   \n",
       "0  0.205683  0.380538  Summarize how the Third Wave developed over su...  \\\n",
       "1 -0.548304  0.506755  Summarize the various ways the factory would u...   \n",
       "2  3.128928  4.231226  In complete sentences, summarize the structure...   \n",
       "3 -0.210614 -0.471415  In complete sentences, summarize the structure...   \n",
       "4  3.272894  3.219757  Summarize how the Third Wave developed over su...   \n",
       "\n",
       "                prompt_title   \n",
       "0             The Third Wave  \\\n",
       "1    Excerpt from The Jungle   \n",
       "2  Egyptian Social Structure   \n",
       "3  Egyptian Social Structure   \n",
       "4             The Third Wave   \n",
       "\n",
       "                                         prompt_text  \n",
       "0  Background \\r\\nThe Third Wave experiment took ...  \n",
       "1  With one member trimming beef in a cannery, an...  \n",
       "2  Egyptian society was structured like a pyramid...  \n",
       "3  Egyptian society was structured like a pyramid...  \n",
       "4  Background \\r\\nThe Third Wave experiment took ...  "
      ]
     },
     "execution_count": 4,
     "metadata": {},
     "output_type": "execute_result"
    }
   ],
   "source": [
    "df.head()"
   ]
  },
  {
   "cell_type": "code",
   "execution_count": 5,
   "id": "f4d281ec-5048-4cd8-8ea2-d4ffcf7b0287",
   "metadata": {},
   "outputs": [],
   "source": [
    "content_target_labels, conten_boundaries = pd.cut(df['content'], bins=10, retbins =True, labels = [1,2,3,4,5,6,7,8,9,10])\n",
    "df['content_class'] = content_target_labels.values.tolist()\n",
    "\n",
    "wording_target_labels, wording_boundaries = pd.cut(df['wording'], bins=10, retbins =True, labels = [1,2,3,4,5,6,7,8,9,10])\n",
    "df['wording_class'] = wording_target_labels.values.tolist()\n",
    "\n",
    "content_train_df, content_test_df = train_test_split(df, test_size = 0.25, stratify=df['content_class'])"
   ]
  },
  {
   "cell_type": "code",
   "execution_count": 6,
   "id": "f963bdbd-ddd3-4461-852e-11cb98b0aea2",
   "metadata": {},
   "outputs": [],
   "source": [
    "content_train_df['q_and_text'] = content_train_df['text'].apply(lambda x: re.sub(r\"\\s+\", ' ', x)) + content_train_df['prompt_question'].apply(lambda x: re.sub(r\"\\s+\", ' ', x))\n",
    "content_test_df['q_and_text'] = content_test_df['text'].apply(lambda x: re.sub(r\"\\s+\", ' ', x)) + content_test_df['prompt_question'].apply(lambda x: re.sub(r\"\\s+\", ' ', x))"
   ]
  },
  {
   "cell_type": "code",
   "execution_count": 7,
   "id": "48db9a10-fa93-4578-b678-80c2d06bcb51",
   "metadata": {},
   "outputs": [
    {
     "data": {
      "text/plain": [
       "3224"
      ]
     },
     "execution_count": 7,
     "metadata": {},
     "output_type": "execute_result"
    }
   ],
   "source": [
    "content_train_df = content_train_df.sample(frac = 0.6)\n",
    "len(content_train_df)"
   ]
  },
  {
   "cell_type": "code",
   "execution_count": 8,
   "id": "fabbc632-21ed-47a8-94e8-9aee23ff7351",
   "metadata": {},
   "outputs": [],
   "source": [
    "trainer = SetFitTrainer(\n",
    "    model=model,\n",
    "    train_dataset= Dataset.from_pandas(content_train_df[['q_and_text', 'content_class']]),\n",
    "    eval_dataset=Dataset.from_pandas(content_test_df[['q_and_text', 'content_class']]),\n",
    "    loss_class=CosineSimilarityLoss,\n",
    "    batch_size=6,\n",
    "    num_iterations=5, \n",
    "    num_epochs=2,\n",
    "    column_mapping={\"q_and_text\": \"text\", \"content_class\": \"label\"},\n",
    "    metric=classification_report,\n",
    "    use_amp=True,\n",
    "    warmup_proportion = 0.05\n",
    ")"
   ]
  },
  {
   "cell_type": "code",
   "execution_count": 9,
   "id": "2fddf041-ba02-4781-8d94-89fbfe6ac7eb",
   "metadata": {},
   "outputs": [
    {
     "name": "stderr",
     "output_type": "stream",
     "text": [
      "Applying column mapping to training dataset\n"
     ]
    },
    {
     "data": {
      "application/vnd.jupyter.widget-view+json": {
       "model_id": "071e1d83be0e49ecaef5d7411678c690",
       "version_major": 2,
       "version_minor": 0
      },
      "text/plain": [
       "Generating Training Pairs:   0%|          | 0/5 [00:00<?, ?it/s]"
      ]
     },
     "metadata": {},
     "output_type": "display_data"
    },
    {
     "name": "stderr",
     "output_type": "stream",
     "text": [
      "***** Running training *****\n",
      "  Num examples = 32240\n",
      "  Num epochs = 2\n",
      "  Total optimization steps = 10748\n",
      "  Total train batch size = 6\n"
     ]
    },
    {
     "data": {
      "application/vnd.jupyter.widget-view+json": {
       "model_id": "2505909d25ad4c3194dd008a32aad158",
       "version_major": 2,
       "version_minor": 0
      },
      "text/plain": [
       "Epoch:   0%|          | 0/2 [00:00<?, ?it/s]"
      ]
     },
     "metadata": {},
     "output_type": "display_data"
    },
    {
     "data": {
      "application/vnd.jupyter.widget-view+json": {
       "model_id": "984ddc76ccf44b2eb9c6c67dfbf176ff",
       "version_major": 2,
       "version_minor": 0
      },
      "text/plain": [
       "Iteration:   0%|          | 0/5374 [00:00<?, ?it/s]"
      ]
     },
     "metadata": {},
     "output_type": "display_data"
    },
    {
     "data": {
      "application/vnd.jupyter.widget-view+json": {
       "model_id": "fb93caa136034bb0a82e380bb057236d",
       "version_major": 2,
       "version_minor": 0
      },
      "text/plain": [
       "Iteration:   0%|          | 0/5374 [00:00<?, ?it/s]"
      ]
     },
     "metadata": {},
     "output_type": "display_data"
    }
   ],
   "source": [
    "trainer.train()"
   ]
  },
  {
   "cell_type": "code",
   "execution_count": 17,
   "id": "d15ec5fa-25ad-4591-a960-0d788ff6cb60",
   "metadata": {},
   "outputs": [
    {
     "name": "stderr",
     "output_type": "stream",
     "text": [
      "100%|██████████| 51/51 [00:46<00:00,  1.09it/s]\n"
     ]
    },
    {
     "name": "stdout",
     "output_type": "stream",
     "text": [
      "              precision    recall  f1-score   support\n",
      "\n",
      "           1       0.91      0.91      0.91       459\n",
      "           2       0.90      0.92      0.91       526\n",
      "           3       1.00      0.97      0.99       744\n",
      "           4       1.00      1.00      1.00       673\n",
      "           5       0.94      0.96      0.95       307\n",
      "           6       0.85      0.78      0.81       226\n",
      "           7       0.71      0.85      0.78       179\n",
      "           8       0.86      0.41      0.56        61\n",
      "           9       0.53      0.76      0.62        38\n",
      "          10       0.89      0.73      0.80        11\n",
      "\n",
      "    accuracy                           0.93      3224\n",
      "   macro avg       0.86      0.83      0.83      3224\n",
      "weighted avg       0.93      0.93      0.93      3224\n",
      "\n"
     ]
    },
    {
     "name": "stderr",
     "output_type": "stream",
     "text": [
      "100%|██████████| 28/28 [00:26<00:00,  1.06it/s]"
     ]
    },
    {
     "name": "stdout",
     "output_type": "stream",
     "text": [
      "              precision    recall  f1-score   support\n",
      "\n",
      "           1       0.74      0.49      0.59       253\n",
      "           2       0.44      0.56      0.49       298\n",
      "           3       0.55      0.57      0.56       420\n",
      "           4       0.59      0.53      0.56       380\n",
      "           5       0.39      0.55      0.45       173\n",
      "           6       0.35      0.29      0.32       115\n",
      "           7       0.43      0.42      0.43        95\n",
      "           8       0.33      0.06      0.11        32\n",
      "           9       0.35      0.40      0.37        20\n",
      "          10       0.50      0.33      0.40         6\n",
      "\n",
      "    accuracy                           0.51      1792\n",
      "   macro avg       0.47      0.42      0.43      1792\n",
      "weighted avg       0.53      0.51      0.51      1792\n",
      "\n"
     ]
    },
    {
     "name": "stderr",
     "output_type": "stream",
     "text": [
      "\n"
     ]
    }
   ],
   "source": [
    "eval_data = Dataset.from_pandas(content_test_df[['q_and_text', 'content_class']])\n",
    "train_data = Dataset.from_pandas(content_train_df[['q_and_text', 'content_class']])\n",
    "\n",
    "train_dataloader = DataLoader(train_data, batch_size=64, shuffle=False)\n",
    "eval_dataloader = DataLoader(eval_data, batch_size=64, shuffle=False)\n",
    "\n",
    "train_pred = []\n",
    "\n",
    "for batch in tqdm(train_dataloader):\n",
    "    pred = model(batch['q_and_text'])\n",
    "    train_pred.append(pred)\n",
    "\n",
    "train_pred = np.hstack(train_pred)\n",
    "\n",
    "print(classification_report(content_train_df['content_class'].values,  train_pred))\n",
    "\n",
    "eval_pred = []\n",
    "\n",
    "for batch in tqdm(eval_dataloader):\n",
    "    pred = model(batch['q_and_text'])\n",
    "    eval_pred.append(pred)\n",
    "\n",
    "eval_pred = np.hstack(eval_pred)\n",
    "\n",
    "print(classification_report(content_test_df['content_class'].values,  eval_pred))"
   ]
  },
  {
   "cell_type": "code",
   "execution_count": 19,
   "id": "1af26ef7-6716-419e-8b3d-f2b3f00cc239",
   "metadata": {},
   "outputs": [],
   "source": [
    "model.save_pretrained('setfit_content_class')"
   ]
  },
  {
   "cell_type": "code",
   "execution_count": 23,
   "id": "a1b19f5f-3eaa-46a0-9d6c-b885ceb8bd7a",
   "metadata": {},
   "outputs": [
    {
     "data": {
      "image/png": "[encoded data removed]",
      "text/plain": [
       "<Figure size 640x480 with 2 Axes>"
      ]
     },
     "metadata": {},
     "output_type": "display_data"
    }
   ],
   "source": [
    "from sklearn.metrics import confusion_matrix, ConfusionMatrixDisplay\n",
    "\n",
    "cm = confusion_matrix(content_test_df['content_class'].values,  eval_pred)\n",
    "disp  = ConfusionMatrixDisplay(cm, display_labels = [1,2,3,4,5,6,7,8,9,10])\n",
    "disp.plot();"
   ]
  },
  {
   "cell_type": "code",
   "execution_count": null,
   "id": "70fb1b95-4839-4e56-9775-eb1adeac5b5a",
   "metadata": {},
   "outputs": [],
   "source": []
  }
 ],
 "metadata": {
  "kernelspec": {
   "display_name": "Python 3 (ipykernel)",
   "language": "python",
   "name": "python3"
  },
  "language_info": {
   "codemirror_mode": {
    "name": "ipython",
    "version": 3
   },
   "file_extension": ".py",
   "mimetype": "text/x-python",
   "name": "python",
   "nbconvert_exporter": "python",
   "pygments_lexer": "ipython3",
   "version": "3.10.11"
  }
 },
 "nbformat": 4,
 "nbformat_minor": 5
}
